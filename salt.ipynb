{
  "nbformat": 4,
  "nbformat_minor": 0,
  "metadata": {
    "colab": {
      "name": "salt.ipynb",
      "provenance": [],
      "collapsed_sections": [],
      "toc_visible": true
    },
    "kernelspec": {
      "name": "python3",
      "display_name": "Python 3"
    },
    "accelerator": "GPU"
  },
  "cells": [
    {
      "cell_type": "code",
      "metadata": {
        "id": "RNT6lLnuc-K2",
        "colab_type": "code",
        "colab": {}
      },
      "source": [
        "import os\n",
        "import numpy as np\n",
        "import imageio\n",
        "import matplotlib.pyplot as plt\n",
        "import pandas as pd\n",
        "import cv2\n",
        "import torch\n",
        "import torch.nn as nn\n",
        "import torch.nn.functional as F\n",
        "from torch.utils import data\n",
        "from collections import namedtuple\n",
        "import matplotlib.pyplot as plt"
      ],
      "execution_count": 0,
      "outputs": []
    },
    {
      "cell_type": "code",
      "metadata": {
        "id": "7EjltPWQ0Bl1",
        "colab_type": "code",
        "colab": {}
      },
      "source": [
        "# Set up your path accordingly \n",
        "train_csv = \"drive/My Drive/Quant/train.csv\"\n",
        "depth_csv = \"drive/My Drive/Quant/depths.csv\"\n",
        "train_images_path = \"drive/My Drive/Quant/images\"\n",
        "train_masks_path = \"drive/My Drive/Quant/masks\"\n",
        "root_path = \"drive/My Drive/Quant\"\n",
        "images_npy_path = \"drive/My Drive/Quant/images.npy\"\n",
        "masks_npy_path = \"drive/My Drive/Quant/masks.npy\"\n",
        "model_save_path = \"drive/My Drive/Quant/Models\"\n",
        "device = torch.device(\"cuda\" if torch.cuda.is_available() else \"cpu\")"
      ],
      "execution_count": 0,
      "outputs": []
    },
    {
      "cell_type": "code",
      "metadata": {
        "id": "LT8fDJ7g0kUG",
        "colab_type": "code",
        "colab": {}
      },
      "source": [
        "file_list = os.listdir(train_images_path)\n",
        "file_list = np.array(file_list)"
      ],
      "execution_count": 0,
      "outputs": []
    },
    {
      "cell_type": "code",
      "metadata": {
        "id": "TrJM3Mty0pDT",
        "colab_type": "code",
        "colab": {}
      },
      "source": [
        "def save_dict(path , dct):\n",
        "    with open(path , \"wb\") as handle:\n",
        "        pickle.dump(dct , handle , protocol = pickle.HIGHEST_PROTOCOL)\n",
        "def load_dict(path):\n",
        "    with open(path, \"rb\") as handle:\n",
        "        b = pickle.load(handle)\n",
        "    return b"
      ],
      "execution_count": 0,
      "outputs": []
    },
    {
      "cell_type": "code",
      "metadata": {
        "id": "vVmLW29FdVyA",
        "colab_type": "code",
        "colab": {}
      },
      "source": [
        "class TGSSaltDataset(data.Dataset):\n",
        "    \n",
        "    def __init__(self, root_path, file_list):\n",
        "        self.root_path = root_path\n",
        "        self.file_list = file_list\n",
        "    \n",
        "    def __len__(self):\n",
        "        return len(self.file_list)\n",
        "    \n",
        "    def load(self, file_id):\n",
        "        image_folder = os.path.join(self.root_path, \"images\")\n",
        "        image_path = os.path.join(image_folder, file_id)\n",
        "        \n",
        "        mask_folder = os.path.join(self.root_path, \"masks\")\n",
        "        mask_path = os.path.join(mask_folder, file_id)\n",
        "\n",
        "        image = np.array(imageio.imread(image_path), dtype=np.uint8)\n",
        "        mask = np.array(imageio.imread(mask_path), dtype=np.uint8)\n",
        "        image = cv2.resize(image , (128,128) )\n",
        "        mask = cv2.resize(mask , (128,128))\n",
        "        ret,mask = cv2.threshold(mask,127,255,cv2.THRESH_BINARY)\n",
        "        image = np.rollaxis(image , 2,0)\n",
        "\n",
        "    \n",
        "        return image , mask\n",
        "\n",
        "    def get_array(self):\n",
        "        photos = np.empty((len(self.file_list) ,3,128,128) , dtype = np.int16)\n",
        "        masks =  np.empty((len(self.file_list) ,1,128,128) , dtype = np.int16)\n",
        "        for i,im in enumerate(self.file_list):\n",
        "            print(i)\n",
        "            p , m = self.load(im)\n",
        "            photos[i,:,:,:] = p\n",
        "            masks[i,0,:,:] = m\n",
        "        return photos, masks"
      ],
      "execution_count": 0,
      "outputs": []
    },
    {
      "cell_type": "code",
      "metadata": {
        "id": "czxyeuaAivBc",
        "colab_type": "code",
        "colab": {}
      },
      "source": [
        "dataset = TGSSaltDataset(root_path, file_list)"
      ],
      "execution_count": 0,
      "outputs": []
    },
    {
      "cell_type": "markdown",
      "metadata": {
        "id": "i_ClwrElNkMZ",
        "colab_type": "text"
      },
      "source": [
        "I have already extracted Images and cropped/resized for feeding in the U-net, I will directely load the images and the maskes, if you want to redo the process , just uncomment the first line in the next cell"
      ]
    },
    {
      "cell_type": "code",
      "metadata": {
        "id": "2QGM0pyP4YqL",
        "colab_type": "code",
        "colab": {}
      },
      "source": [
        "#images , masks = dataset.get_array()    # save the images and masks you get from this to your disk. \n",
        "images = np.load(images_npy_path)\n",
        "masks = np.load(masks_npy_path)"
      ],
      "execution_count": 0,
      "outputs": []
    },
    {
      "cell_type": "markdown",
      "metadata": {
        "id": "Lep7-e90h8M5",
        "colab_type": "text"
      },
      "source": [
        "*First 3000 images are used for training and rest for testing*"
      ]
    },
    {
      "cell_type": "code",
      "metadata": {
        "id": "SVz_QfcHI-Ov",
        "colab_type": "code",
        "colab": {}
      },
      "source": [
        "def get_batch(batch_size , images , masks):   \n",
        "    index = np.random.randint(0, len(images)- 1000 , batch_size)\n",
        "    img = images[index]\n",
        "    msk = masks[index]\n",
        "    img = torch.tensor(img).float().to(device)/255\n",
        "    msk = torch.tensor(msk).float().to(device)/255\n",
        "    return img, msk\n",
        "def get_test(images , mask):\n",
        "    img = images[-1000:]\n",
        "    msk = masks[-1000:]\n",
        "    img = torch.tensor(img).float().to(device)/255\n",
        "    msk = torch.tensor(msk).float().to(device)/255\n",
        "    return img, msk\n",
        "\n"
      ],
      "execution_count": 0,
      "outputs": []
    },
    {
      "cell_type": "code",
      "metadata": {
        "id": "PghYPT0l1SJS",
        "colab_type": "code",
        "colab": {}
      },
      "source": [
        "def plot2x2Array(image, mask):\n",
        "    f, axarr = plt.subplots(1,2)\n",
        "    axarr[0].imshow(image)\n",
        "    axarr[1].imshow(mask)\n",
        "    axarr[0].grid()\n",
        "    axarr[1].grid()\n",
        "    axarr[0].set_title('Image')\n",
        "    axarr[1].set_title('Mask')\n",
        "\n",
        "def plot2x2Array_compare(image, mask):\n",
        "    f, axarr = plt.subplots(1,2)\n",
        "    axarr[0].imshow(image)\n",
        "    axarr[1].imshow(mask)\n",
        "    axarr[0].grid()\n",
        "    axarr[1].grid()\n",
        "    axarr[0].set_title('Orignal_Mask')\n",
        "    axarr[1].set_title('Predicted_Mask')"
      ],
      "execution_count": 0,
      "outputs": []
    },
    {
      "cell_type": "code",
      "metadata": {
        "id": "MXKBw-f91Wdj",
        "colab_type": "code",
        "outputId": "f998069e-f3df-466d-ccc5-2e2b58c487cd",
        "colab": {
          "base_uri": "https://localhost:8080/",
          "height": 1000
        }
      },
      "source": [
        "for i in range(5):    # PLotting the first 5 training examples. \n",
        "    image, mask = images[i] , masks[i]\n",
        "    disp_img = np.rollaxis(image , 1, 0)\n",
        "    disp_img = np.rollaxis(disp_img , 2, 1)\n",
        "\n",
        "    disp_msk = np.rollaxis(mask , 1, 0)\n",
        "    disp_msk = np.rollaxis(disp_msk , 2, 1)[:,:,0]\n",
        "    \n",
        "    plot2x2Array(disp_img, disp_msk)"
      ],
      "execution_count": 34,
      "outputs": [
        {
          "output_type": "display_data",
          "data": {
            "image/png": "[encoded data removed]",
            "text/plain": [
              "<Figure size 432x288 with 2 Axes>"
            ]
          },
          "metadata": {
            "tags": []
          }
        },
        {
          "output_type": "display_data",
          "data": {
            "image/png": "[encoded data removed]",
            "text/plain": [
              "<Figure size 432x288 with 2 Axes>"
            ]
          },
          "metadata": {
            "tags": []
          }
        },
        {
          "output_type": "display_data",
          "data": {
            "image/png": "[encoded data removed]",
            "text/plain": [
              "<Figure size 432x288 with 2 Axes>"
            ]
          },
          "metadata": {
            "tags": []
          }
        },
        {
          "output_type": "display_data",
          "data": {
            "image/png": "[encoded data removed]",
            "text/plain": [
              "<Figure size 432x288 with 2 Axes>"
            ]
          },
          "metadata": {
            "tags": []
          }
        },
        {
          "output_type": "display_data",
          "data": {
            "image/png": "[encoded data removed]",
            "text/plain": [
              "<Figure size 432x288 with 2 Axes>"
            ]
          },
          "metadata": {
            "tags": []
          }
        }
      ]
    },
    {
      "cell_type": "code",
      "metadata": {
        "id": "q2q5aY63ix6s",
        "colab_type": "code",
        "colab": {}
      },
      "source": [
        "class Salt_finder(nn.Module):   # This is the U-net for segmenting salt pixels \n",
        "    def __init__(self):\n",
        "        super().__init__()\n",
        "        # ----------  #\n",
        "        self.conv1_1 = nn.Conv2d(in_channels= 3, out_channels= 16, kernel_size = (3,3), stride=1 , padding = 1)\n",
        "        self.conv1_2 = nn.Conv2d(in_channels= 16, out_channels= 16, kernel_size = (3,3), stride=1 , padding = 1)\n",
        "        self.relu1_1 = nn.ReLU()\n",
        "        self.relu1_2 = nn.ReLU()\n",
        "        self.MX1_1 = nn.MaxPool2d(2, stride=2)\n",
        "        # ----------  #\n",
        "        self.conv2_1 = nn.Conv2d(in_channels= 16, out_channels= 32, kernel_size = (3,3), stride=1 , padding = 1)\n",
        "        self.conv2_2 = nn.Conv2d(in_channels= 32, out_channels= 32, kernel_size = (3,3), stride=1 , padding = 1)\n",
        "        self.relu2_1 = nn.ReLU()\n",
        "        self.relu2_2 = nn.ReLU()\n",
        "        self.MX2_1 = nn.MaxPool2d(2, stride=2)\n",
        "\n",
        "        # ----------  #\n",
        "        self.conv3_1 = nn.Conv2d(in_channels= 32, out_channels= 64, kernel_size = (3,3), stride=1 , padding = 1)\n",
        "        self.conv3_2 = nn.Conv2d(in_channels= 64, out_channels= 64, kernel_size = (3,3), stride=1 , padding = 1)\n",
        "        self.relu3_1 = nn.ReLU()\n",
        "        self.relu3_2 = nn.ReLU()\n",
        "        self.MX3_1 = nn.MaxPool2d(2, stride=2)\n",
        "\n",
        "        # ----------  #\n",
        "        self.conv4_1 = nn.Conv2d(in_channels= 64, out_channels= 128, kernel_size = (3,3), stride=1 , padding = 1)\n",
        "        self.conv4_2 = nn.Conv2d(in_channels= 128, out_channels= 128, kernel_size = (3,3), stride=1 , padding = 1)\n",
        "        self.relu4_1 = nn.ReLU()\n",
        "        self.relu4_2 = nn.ReLU()\n",
        "        self.MX4_1 = nn.MaxPool2d(2, stride=2)\n",
        "\n",
        "         # ----------  #\n",
        "        self.conv5_1 = nn.Conv2d(in_channels= 128, out_channels= 256, kernel_size = (3,3), stride=1 , padding = 1)\n",
        "        self.conv5_2 = nn.Conv2d(in_channels= 256, out_channels= 256, kernel_size = (3,3), stride=1 , padding = 1)\n",
        "        self.relu5_1 = nn.ReLU()\n",
        "        self.relu5_2 = nn.ReLU()\n",
        "\n",
        "\n",
        "        # ----------  #\n",
        "        self.up1 = nn.ConvTranspose2d(in_channels = 256 , out_channels= 128 , kernel_size= 2 , stride = 2 )\n",
        "        # ----------  #\n",
        "        self.conv6_1 = nn.Conv2d(in_channels= 256, out_channels= 128, kernel_size = (3,3), stride=1 , padding = 1)\n",
        "        self.conv6_2 = nn.Conv2d(in_channels= 128, out_channels= 128, kernel_size = (3,3), stride=1 , padding = 1)\n",
        "        self.relu6_1 = nn.ReLU()\n",
        "        self.relu6_2 = nn.ReLU()\n",
        "\n",
        "        # ----------  #\n",
        "        self.up2 = nn.ConvTranspose2d(in_channels = 128 , out_channels= 64 , kernel_size= 2 , stride = 2 )\n",
        "\n",
        "        # ----------  #\n",
        "        self.conv7_1 = nn.Conv2d(in_channels= 128, out_channels= 64, kernel_size = (3,3), stride=1 , padding = 1)\n",
        "        self.conv7_2 = nn.Conv2d(in_channels= 64, out_channels= 64, kernel_size = (3,3), stride=1 , padding = 1)\n",
        "        self.relu7_1 = nn.ReLU()\n",
        "        self.relu7_2 = nn.ReLU()\n",
        "\n",
        "        # ----------  #\n",
        "        self.up3 = nn.ConvTranspose2d(in_channels = 64 , out_channels= 32 , kernel_size= 2 , stride = 2 )\n",
        "\n",
        "        # ----------  #\n",
        "        self.conv8_1 = nn.Conv2d(in_channels= 64, out_channels= 32, kernel_size = (3,3), stride=1 , padding = 1)\n",
        "        self.conv8_2 = nn.Conv2d(in_channels= 32, out_channels= 32, kernel_size = (3,3), stride=1 , padding = 1)\n",
        "        self.relu8_1 = nn.ReLU()\n",
        "        self.relu8_2 = nn.ReLU()\n",
        "\n",
        "        # ----------  #\n",
        "        self.up4 = nn.ConvTranspose2d(in_channels = 32 , out_channels= 16 , kernel_size= 2 , stride = 2 )\n",
        "\n",
        "        # ----------  #\n",
        "        self.conv9_1 = nn.Conv2d(in_channels= 32, out_channels= 16, kernel_size = (3,3), stride=1 , padding = 1)\n",
        "        self.conv9_2 = nn.Conv2d(in_channels= 16, out_channels= 16, kernel_size = (3,3), stride=1 , padding = 1)\n",
        "        self.relu9_1 = nn.ReLU()\n",
        "        self.relu9_2 = nn.ReLU()\n",
        "\n",
        "        # ----------  #\n",
        "        self.conv_final = nn.Conv2d(in_channels= 16, out_channels= 1, kernel_size = (1,1), stride=1 , padding = 0)\n",
        "\n",
        "        self.sig = nn.Sigmoid()\n",
        "\n",
        "\n",
        "\n",
        "\n",
        "    def forward(self ,X):\n",
        "        c1 = self.conv1_1(X)\n",
        "        c1 = self.relu1_1(c1)\n",
        "        c1 = self.conv1_2(c1)\n",
        "        c1 = self.relu1_2(c1)\n",
        "        p1 = self.MX1_1(c1)\n",
        "\n",
        "        c2 = self.conv2_1(p1)\n",
        "        c2 = self.relu2_1(c2)\n",
        "        c2 = self.conv2_2(c2)\n",
        "        c2 = self.relu2_2(c2)\n",
        "        p2 = self.MX2_1(c2)\n",
        "\n",
        "        c3 = self.conv3_1(p2)\n",
        "        c3 = self.relu3_1(c3)\n",
        "        c3 = self.conv3_2(c3)\n",
        "        c3 = self.relu3_2(c3)\n",
        "        p3 = self.MX3_1(c3)\n",
        "\n",
        "        \n",
        "        c4 = self.conv4_1(p3)\n",
        "        c4 = self.relu4_1(c4)\n",
        "        c4 = self.conv4_2(c4)\n",
        "        c4 = self.relu4_2(c4)\n",
        "        p4 = self.MX4_1(c4)\n",
        "\n",
        "        \n",
        "        c5 = self.conv5_1(p4)\n",
        "        c5 = self.relu5_1(c5)\n",
        "        c5 = self.conv5_2(c5)\n",
        "        c5 = self.relu5_2(c5)\n",
        "\n",
        "        u6 = self.up1(c5)\n",
        "        u6 = torch.cat((u6,c4) , dim = 1)\n",
        "\n",
        "        c6 = self.conv6_1(u6)\n",
        "        c6 = self.relu6_1(c6)\n",
        "        c6 = self.conv6_2(c6)\n",
        "        c6 = self.relu6_2(c6)\n",
        "\n",
        "        u7 = self.up2(c6)\n",
        "        u7 = torch.cat((u7,c3) , dim = 1)\n",
        "\n",
        "        c7 = self.conv7_1(u7)\n",
        "        c7 = self.relu7_1(c7)\n",
        "        c7 = self.conv7_2(c7)\n",
        "        c7 = self.relu7_2(c7)\n",
        "\n",
        "        \n",
        "        u8 = self.up3(c7)\n",
        "        u8 = torch.cat((u8,c2) , dim = 1)\n",
        "\n",
        "        c8 = self.conv8_1(u8)\n",
        "        c8 = self.relu8_1(c8)\n",
        "        c8 = self.conv8_2(c8)\n",
        "        c8 = self.relu8_2(c8)\n",
        "\n",
        "        u9 = self.up4(c8)\n",
        "        u9 = torch.cat((u9,c1) , dim = 1)\n",
        "\n",
        "        \n",
        "        c9 = self.conv9_1(u9)\n",
        "        c9 = self.relu9_1(c9)\n",
        "        c9 = self.conv9_2(c9)\n",
        "        c9 = self.relu9_2(c9)\n",
        "\n",
        "        out = self.conv_final(c9)\n",
        "        out = self.sig(out)\n",
        "        return out\n"
      ],
      "execution_count": 0,
      "outputs": []
    },
    {
      "cell_type": "code",
      "metadata": {
        "id": "K8JLw_p3k8lF",
        "colab_type": "code",
        "colab": {}
      },
      "source": [
        "Model = Salt_finder().to(device)\n",
        "crit = nn.BCELoss()\n",
        "learning_rate = .00005\n",
        "opt = torch.optim.Adam(Model.parameters(), lr=learning_rate)\n"
      ],
      "execution_count": 0,
      "outputs": []
    },
    {
      "cell_type": "code",
      "metadata": {
        "id": "9jr9TU-eW9aC",
        "colab_type": "code",
        "colab": {}
      },
      "source": [
        "def load_model(model):\n",
        "    path = os.path.join(model_save_path , \"Best_model.pt\")\n",
        "    model.load_state_dict(torch.load(path))\n",
        "    return model"
      ],
      "execution_count": 0,
      "outputs": []
    },
    {
      "cell_type": "markdown",
      "metadata": {
        "id": "NU7jTvE4Os46",
        "colab_type": "text"
      },
      "source": [
        "I have already trained the model and got a IOU score of 69%\n",
        "If you want to train your own model do not run the next cell , but run the train cell instead"
      ]
    },
    {
      "cell_type": "code",
      "metadata": {
        "id": "_Dd2mTEEXnQD",
        "colab_type": "code",
        "colab": {}
      },
      "source": [
        "Model = load_model(Model)"
      ],
      "execution_count": 0,
      "outputs": []
    },
    {
      "cell_type": "code",
      "metadata": {
        "id": "o6rLWoOTZHiG",
        "colab_type": "code",
        "colab": {}
      },
      "source": [
        "def IOU_loss(logits, targets):\n",
        "        smooth = 1\n",
        "        num = targets.size(0)\n",
        "        probs = logits\n",
        "        m1 = probs.view(num, -1)\n",
        "        m2 = targets.view(num, -1)\n",
        "        intersection = (m1 * m2)\n",
        "\n",
        "        score = 2. * (intersection.sum(1) + smooth) / (m1.sum(1) + m2.sum(1) + smooth)\n",
        "        score = 1 - score.sum() / num\n",
        "        return score"
      ],
      "execution_count": 0,
      "outputs": []
    },
    {
      "cell_type": "code",
      "metadata": {
        "id": "lfYD34L6ofCs",
        "colab_type": "code",
        "colab": {}
      },
      "source": [
        "def get_accuracy(Model , inp , truth):\n",
        "    with torch.no_grad():\n",
        "        out = Model(inp)\n",
        "        t = torch.Tensor([0.5]).to(device)  # threshold\n",
        "        out = (out > t).float() * 1\n",
        "    out = out.cpu().numpy()\n",
        "    truth = truth.cpu().numpy()\n",
        "    intersection = np.logical_and(truth, out)\n",
        "    union = np.logical_or(truth, out)\n",
        "    union = np.sum(union)\n",
        "    intersection = np.sum(intersection)\n",
        "    if(union == 0):\n",
        "        return 1\n",
        "    iou_score = np.sum(intersection) / np.sum(union)\n",
        "    #accu = out == truth\n",
        "    #accu = torch.sum(accu).item()\n",
        "    accu = iou_score\n",
        "    #total = inp.size(0)*128*128\n",
        "    return accu#/total\n",
        "\n",
        "\n",
        "def get_total_accuracy(Model , inp , truth):\n",
        "    accu = 0\n",
        "    for i in range(len(inp)):\n",
        "        accu += get_accuracy(Model , inp[i:i+1] , truth[i:i+1] )\n",
        "    return accu/len(inp) \n",
        "\n",
        "\n",
        "def get_image_data(out , actual):\n",
        "    actual = actual.squeeze()\n",
        "    actual = actual.cpu().numpy()\n",
        "    t = torch.Tensor([0.5]).to(device)  # threshold\n",
        "    out = (out > t).float() * 1\n",
        "    out = out.squeeze()\n",
        "    out = out.cpu().numpy()\n",
        "    return out , actual\n",
        "    \n"
      ],
      "execution_count": 0,
      "outputs": []
    },
    {
      "cell_type": "markdown",
      "metadata": {
        "id": "BejQpDRTT6kx",
        "colab_type": "text"
      },
      "source": [
        "I use both binary cross entropy loss and IOU loss as presented in the paper http://www.insticc.org/Primoris/Resources/PaperPdf.ashx?idPaper=73475 to train the model."
      ]
    },
    {
      "cell_type": "code",
      "metadata": {
        "id": "Gnbz0Uy2k-5y",
        "colab_type": "code",
        "colab": {}
      },
      "source": [
        "IOU_array = []\n",
        "def train(Model , epochs  , batch_size , opt , crit ,images , masks ):\n",
        "    for _ in range(epochs):\n",
        "        total_loss = 0\n",
        "        times = len(images)//batch_size\n",
        "        for _ in range(times):\n",
        "            img , msk = get_batch(batch_size , images , masks)\n",
        "            out = Model(img)\n",
        "            opt.zero_grad() \n",
        "            loss = crit(out , msk) + IOU_loss(out , msk)\n",
        "            loss.backward()\n",
        "            opt.step()\n",
        "            total_loss += loss.item()\n",
        "        print(\"loss =\" ,total_loss/times)\n",
        "        inp = get_test(images  ,masks)\n",
        "        print(\"Validation IOU score =\" , end = \" \")\n",
        "        IOU_score = get_total_accuracy(Model , inp[0] , inp[1])\n",
        "        IOU_array.append(IOU_score)\n",
        "        print(IOU_score)\n",
        "        print(\"\")\n",
        "\n"
      ],
      "execution_count": 0,
      "outputs": []
    },
    {
      "cell_type": "code",
      "metadata": {
        "id": "DOIomCvkYzKc",
        "colab_type": "code",
        "outputId": "d09304bd-6ce1-409f-a468-5915bfd654a4",
        "colab": {
          "base_uri": "https://localhost:8080/",
          "height": 265
        }
      },
      "source": [
        "#train(Model , 40 , 32, opt, crit , images , masks)\n",
        "#plt.plot(IOU_array)  # This is plot of validation IOU score vs epochs\n",
        "#plt.show()\n"
      ],
      "execution_count": 57,
      "outputs": [
        {
          "output_type": "display_data",
          "data": {
            "image/png": "[encoded data removed]",
            "text/plain": [
              "<Figure size 432x288 with 1 Axes>"
            ]
          },
          "metadata": {
            "tags": []
          }
        }
      ]
    },
    {
      "cell_type": "markdown",
      "metadata": {
        "id": "oBeRx56BVCXb",
        "colab_type": "text"
      },
      "source": [
        "The above plot shows that my model gets 69% IOU score on validation set  "
      ]
    },
    {
      "cell_type": "code",
      "metadata": {
        "id": "3kYB_21_RE9x",
        "colab_type": "code",
        "outputId": "115f5d70-52b9-497c-c427-f279f7301845",
        "colab": {
          "base_uri": "https://localhost:8080/",
          "height": 216
        }
      },
      "source": [
        "inp = get_batch(1 , images , masks)    # here is an example of predicted mask compared with orignal mask\n",
        "out = Model(inp[0])\n",
        "a,b  = get_image_data(out , inp[1])\n",
        "plot2x2Array_compare(a , b)"
      ],
      "execution_count": 61,
      "outputs": [
        {
          "output_type": "display_data",
          "data": {
            "image/png": "[encoded data removed]",
            "text/plain": [
              "<Figure size 432x288 with 2 Axes>"
            ]
          },
          "metadata": {
            "tags": []
          }
        }
      ]
    },
    {
      "cell_type": "markdown",
      "metadata": {
        "id": "-dcYq8_HvnrC",
        "colab_type": "text"
      },
      "source": [
        "## **Quantizing the network**"
      ]
    },
    {
      "cell_type": "code",
      "metadata": {
        "id": "kvtgTNXzZrDB",
        "colab_type": "code",
        "colab": {}
      },
      "source": [
        "QTensor = namedtuple('QTensor', ['tensor', 'scale', 'zero_point'])\n",
        "\n",
        "def calcScaleZeroPoint(min_val, max_val,num_bits):\n",
        "  # Calc Scale and zero point of next \n",
        "  qmin = 0.\n",
        "  qmax = 2.**num_bits - 1.\n",
        "\n",
        "  scale = (max_val - min_val) / (qmax - qmin)\n",
        "\n",
        "  initial_zero_point = qmin - min_val / scale\n",
        "  \n",
        "  zero_point = 0\n",
        "  if initial_zero_point < qmin:\n",
        "      zero_point = qmin\n",
        "  elif initial_zero_point > qmax:\n",
        "      zero_point = qmax\n",
        "  else:\n",
        "      zero_point = initial_zero_point\n",
        "\n",
        "  zero_point = int(zero_point)\n",
        "\n",
        "  return scale, zero_point\n",
        "\n",
        "def quantize_tensor(x, num_bits, min_val=None, max_val=None):\n",
        "    \n",
        "    if not min_val and not max_val: \n",
        "      min_val, max_val = x.min(), x.max()\n",
        "\n",
        "    qmin = 0.\n",
        "    qmax = 2.**num_bits - 1.\n",
        "\n",
        "    scale, zero_point = calcScaleZeroPoint(min_val, max_val, num_bits)\n",
        "    q_x = zero_point + x / scale\n",
        "    q_x.clamp_(qmin, qmax).round_()\n",
        "    q_x = q_x.round().int()\n",
        "    return QTensor(tensor=q_x, scale=scale, zero_point=zero_point)\n",
        "\n",
        "def dequantize_tensor(q_x):\n",
        "    return q_x.scale * (q_x.tensor.float() - q_x.zero_point)"
      ],
      "execution_count": 0,
      "outputs": []
    },
    {
      "cell_type": "code",
      "metadata": {
        "id": "-yKUDfkIjcOz",
        "colab_type": "code",
        "colab": {}
      },
      "source": [
        "def quantizeLayer(x, layer, stat, scale_x, zp_x , num_bits):\n",
        "  # for conv and deconv layers\n",
        "\n",
        "  # cache old values\n",
        "  W = layer.weight.data\n",
        "  B = layer.bias.data\n",
        "\n",
        "  # quantise weights, activations are already quantised\n",
        "  w = quantize_tensor(layer.weight.data , num_bits = num_bits) \n",
        "  b = quantize_tensor(layer.bias.data , num_bits = num_bits)\n",
        "  layer.weight.data = w.tensor.float()\n",
        "  layer.bias.data = b.tensor.float()\n",
        "\n",
        "  # This is Quantisation Artihmetic\n",
        "  scale_w = w.scale\n",
        "  zp_w = w.zero_point\n",
        "  scale_b = b.scale\n",
        "  zp_b = b.zero_point\n",
        "  \n",
        "  scale_next, zero_point_next = calcScaleZeroPoint(min_val=stat['min'], max_val=stat['max'] , num_bits = num_bits)\n",
        "\n",
        "  # Preparing input by shifting\n",
        "  X = x.float() - zp_x\n",
        "  layer.weight.data = scale_x * scale_w*(layer.weight.data - zp_w)\n",
        "  layer.bias.data = scale_b*(layer.bias.data - zp_b)\n",
        "\n",
        "  # All int computation\n",
        "  x = (layer(X)/ scale_next) + zero_point_next\n",
        "  x = x.int() \n",
        "  x.clamp_(0, 2**num_bits - 1)\n",
        "  \n",
        "  # Reset weights for next forward pass\n",
        "  layer.weight.data = W\n",
        "  layer.bias.data = B\n",
        "  \n",
        "  return x, scale_next, zero_point_next"
      ],
      "execution_count": 0,
      "outputs": []
    },
    {
      "cell_type": "markdown",
      "metadata": {
        "id": "PXUogBQ4y3jm",
        "colab_type": "text"
      },
      "source": [
        "Get Max and Min Stats for Quantising Activations of Network.\n",
        "This is done by running the network with around 1000 examples and getting the average min and max activation values before and after each layer."
      ]
    },
    {
      "cell_type": "code",
      "metadata": {
        "id": "dgHfPGAEwVng",
        "colab_type": "code",
        "colab": {}
      },
      "source": [
        "def updateStats(x, stats, key):\n",
        "  max_val, _ = torch.max(x, dim=1)\n",
        "  min_val, _ = torch.min(x, dim=1)\n",
        "  \n",
        "  \n",
        "  if key not in stats:\n",
        "    stats[key] = {\"max\": max_val.sum(), \"min\": min_val.sum(), \"total\": 1}\n",
        "  else:\n",
        "    stats[key]['max'] += max_val.sum().item()\n",
        "    stats[key]['min'] += min_val.sum().item()\n",
        "    stats[key]['total'] += 1\n",
        "  \n",
        "  return stats\n",
        "\n",
        "# Reworked Forward Pass to access activation Stats through updateStats function\n",
        "def gatherActivationStats(model, x, stats):\n",
        "\n",
        "  stats = updateStats(x.clone().view(x.shape[0], -1), stats, 'conv1_1')\n",
        "  x = F.relu(model.conv1_1(x))\n",
        "  stats = updateStats(x.clone().view(x.shape[0], -1), stats, 'conv1_2')\n",
        "  x = F.relu(model.conv1_2(x))\n",
        "  c1 = x.clone()\n",
        "  x = F.max_pool2d(x, 2, 2)\n",
        "\n",
        "  stats = updateStats(x.clone().view(x.shape[0], -1), stats, 'conv2_1')\n",
        "  x = F.relu(model.conv2_1(x))\n",
        "  stats = updateStats(x.clone().view(x.shape[0], -1), stats, 'conv2_2')\n",
        "  x = F.relu(model.conv2_2(x))\n",
        "  c2 = x.clone()\n",
        "  x = F.max_pool2d(x, 2, 2)\n",
        "\n",
        "  stats = updateStats(x.clone().view(x.shape[0], -1), stats, 'conv3_1')\n",
        "  x = F.relu(model.conv3_1(x))\n",
        "  stats = updateStats(x.clone().view(x.shape[0], -1), stats, 'conv3_2')\n",
        "  x = F.relu(model.conv3_2(x))\n",
        "  c3 = x.clone()\n",
        "  x = F.max_pool2d(x, 2, 2)\n",
        "\n",
        "  stats = updateStats(x.clone().view(x.shape[0], -1), stats, 'conv4_1')\n",
        "  x = F.relu(model.conv4_1(x))\n",
        "  stats = updateStats(x.clone().view(x.shape[0], -1), stats, 'conv4_2')\n",
        "  x = F.relu(model.conv4_2(x))\n",
        "  c4 = x.clone()\n",
        "  x = F.max_pool2d(x, 2, 2)\n",
        "\n",
        "  stats = updateStats(x.clone().view(x.shape[0], -1), stats, 'conv5_1')\n",
        "  x = F.relu(model.conv5_1(x))\n",
        "  stats = updateStats(x.clone().view(x.shape[0], -1), stats, 'conv5_2')\n",
        "  x = F.relu(model.conv5_2(x))\n",
        "\n",
        "  stats = updateStats(x.clone().view(x.shape[0], -1), stats, 'up1')\n",
        "  x = model.up1(x)\n",
        "  x = torch.cat((x,c4) , dim = 1)\n",
        "\n",
        "  stats = updateStats(x.clone().view(x.shape[0], -1), stats, 'conv6_1')\n",
        "  x = F.relu(model.conv6_1(x))\n",
        "  stats = updateStats(x.clone().view(x.shape[0], -1), stats, 'conv6_2')\n",
        "  x = F.relu(model.conv6_2(x))\n",
        "\n",
        "  stats = updateStats(x.clone().view(x.shape[0], -1), stats, 'up2')\n",
        "  x = model.up2(x)\n",
        "  x = torch.cat((x,c3) , dim = 1)\n",
        "\n",
        "  stats = updateStats(x.clone().view(x.shape[0], -1), stats, 'conv7_1')\n",
        "  x = F.relu(model.conv7_1(x))\n",
        "  stats = updateStats(x.clone().view(x.shape[0], -1), stats, 'conv7_2')\n",
        "  x = F.relu(model.conv7_2(x))\n",
        "\n",
        "  stats = updateStats(x.clone().view(x.shape[0], -1), stats, 'up3')\n",
        "  x = model.up3(x)\n",
        "  x = torch.cat((x,c2) , dim = 1)\n",
        "\n",
        "  stats = updateStats(x.clone().view(x.shape[0], -1), stats, 'conv8_1')\n",
        "  x = F.relu(model.conv8_1(x))\n",
        "  stats = updateStats(x.clone().view(x.shape[0], -1), stats, 'conv8_2')\n",
        "  x = F.relu(model.conv8_2(x))\n",
        "\n",
        "  stats = updateStats(x.clone().view(x.shape[0], -1), stats, 'up4')\n",
        "  x = model.up4(x)\n",
        "  x = torch.cat((x,c1) , dim = 1)\n",
        "\n",
        "  stats = updateStats(x.clone().view(x.shape[0], -1), stats, 'conv9_1')\n",
        "  x = F.relu(model.conv9_1(x))\n",
        "  stats = updateStats(x.clone().view(x.shape[0], -1), stats, 'conv9_2')\n",
        "  x = F.relu(model.conv9_2(x))\n",
        "\n",
        "  stats = updateStats(x.clone().view(x.shape[0], -1), stats, 'conv_final')\n",
        "  x = torch.sigmoid(model.conv_final(x))\n",
        "\n",
        "  return stats  \n",
        "\n",
        "# Entry function to get stats of all functions.\n",
        "def gatherStats(model, data_loader ,  images , masks):\n",
        "    model.eval()\n",
        "    test_loss = 0\n",
        "    correct = 0\n",
        "    stats = {}\n",
        "    img , msk  = data_loader(images , masks)\n",
        "    with torch.no_grad():\n",
        "        for i in range(len(img)):\n",
        "            stats = gatherActivationStats(model, img[i:i+1], stats)\n",
        "    \n",
        "    final_stats = {}\n",
        "    for key, value in stats.items():\n",
        "      final_stats[key] = { \"max\" : value[\"max\"] / value[\"total\"], \"min\" : value[\"min\"] / value[\"total\"] }\n",
        "    return final_stats"
      ],
      "execution_count": 0,
      "outputs": []
    },
    {
      "cell_type": "code",
      "metadata": {
        "id": "fuqVQeVjr47W",
        "colab_type": "code",
        "colab": {}
      },
      "source": [
        "dct = gatherStats(Model , get_test , images , masks)"
      ],
      "execution_count": 0,
      "outputs": []
    },
    {
      "cell_type": "code",
      "metadata": {
        "id": "9ekc-bLPwQ6N",
        "colab_type": "code",
        "outputId": "e2b2ceb1-51ad-4129-c3f1-f75d3d07b5fd",
        "colab": {
          "base_uri": "https://localhost:8080/",
          "height": 835
        }
      },
      "source": [
        "dct"
      ],
      "execution_count": 0,
      "outputs": [
        {
          "output_type": "execute_result",
          "data": {
            "text/plain": [
              "{'conv1_1': {'max': tensor(0.9535, device='cuda:0'),\n",
              "  'min': tensor(0.0175, device='cuda:0')},\n",
              " 'conv1_2': {'max': tensor(1.0010, device='cuda:0'),\n",
              "  'min': tensor(0., device='cuda:0')},\n",
              " 'conv2_1': {'max': tensor(0.4523, device='cuda:0'),\n",
              "  'min': tensor(0., device='cuda:0')},\n",
              " 'conv2_2': {'max': tensor(0.3679, device='cuda:0'),\n",
              "  'min': tensor(0., device='cuda:0')},\n",
              " 'conv3_1': {'max': tensor(0.3853, device='cuda:0'),\n",
              "  'min': tensor(0., device='cuda:0')},\n",
              " 'conv3_2': {'max': tensor(0.4817, device='cuda:0'),\n",
              "  'min': tensor(0., device='cuda:0')},\n",
              " 'conv4_1': {'max': tensor(1.0068, device='cuda:0'),\n",
              "  'min': tensor(0., device='cuda:0')},\n",
              " 'conv4_2': {'max': tensor(1.0342, device='cuda:0'),\n",
              "  'min': tensor(0., device='cuda:0')},\n",
              " 'conv5_1': {'max': tensor(2.9437, device='cuda:0'),\n",
              "  'min': tensor(0., device='cuda:0')},\n",
              " 'conv5_2': {'max': tensor(2.3765, device='cuda:0'),\n",
              "  'min': tensor(0., device='cuda:0')},\n",
              " 'conv6_1': {'max': tensor(2.9437, device='cuda:0'),\n",
              "  'min': tensor(-0.5573, device='cuda:0')},\n",
              " 'conv6_2': {'max': tensor(5.0369, device='cuda:0'),\n",
              "  'min': tensor(0., device='cuda:0')},\n",
              " 'conv7_1': {'max': tensor(13.2092, device='cuda:0'),\n",
              "  'min': tensor(-19.5424, device='cuda:0')},\n",
              " 'conv7_2': {'max': tensor(44.9607, device='cuda:0'),\n",
              "  'min': tensor(0., device='cuda:0')},\n",
              " 'conv8_1': {'max': tensor(93.3347, device='cuda:0'),\n",
              "  'min': tensor(-82.0539, device='cuda:0')},\n",
              " 'conv8_2': {'max': tensor(224.8359, device='cuda:0'),\n",
              "  'min': tensor(0., device='cuda:0')},\n",
              " 'conv9_1': {'max': tensor(81.3623, device='cuda:0'),\n",
              "  'min': tensor(-98.2940, device='cuda:0')},\n",
              " 'conv9_2': {'max': tensor(70.4961, device='cuda:0'),\n",
              "  'min': tensor(0., device='cuda:0')},\n",
              " 'conv_final': {'max': tensor(38.1737, device='cuda:0'),\n",
              "  'min': tensor(0., device='cuda:0')},\n",
              " 'up1': {'max': tensor(1.3099, device='cuda:0'),\n",
              "  'min': tensor(0., device='cuda:0')},\n",
              " 'up2': {'max': tensor(14.9613, device='cuda:0'),\n",
              "  'min': tensor(0., device='cuda:0')},\n",
              " 'up3': {'max': tensor(118.3080, device='cuda:0'),\n",
              "  'min': tensor(0., device='cuda:0')},\n",
              " 'up4': {'max': tensor(281.9491, device='cuda:0'),\n",
              "  'min': tensor(0., device='cuda:0')}}"
            ]
          },
          "metadata": {
            "tags": []
          },
          "execution_count": 40
        }
      ]
    },
    {
      "cell_type": "code",
      "metadata": {
        "id": "kIcPuAVKwgLg",
        "colab_type": "code",
        "colab": {}
      },
      "source": [
        "def quantForward(model, x, stats , n_bits):\n",
        "  \n",
        "  # Quantise before inputting into incoming layers\n",
        "  x = quantize_tensor(x,num_bits= n_bits ,min_val=stats['conv1_1']['min'], max_val=stats['conv1_1']['max'])\n",
        "  x, scale_next, zero_point_next = quantizeLayer(x.tensor, model.conv1_1, stats['conv1_2'], x.scale, x.zero_point ,n_bits)\n",
        "  return x\n",
        "  x =  F.relu(x)\n",
        "  x, scale_next, zero_point_next = quantizeLayer(x, model.conv1_2, stats['conv2_1'], scale_next,zero_point_next,n_bits)\n",
        "  x =  F.relu(x)\n",
        "  c1 = x.clone()\n",
        "  x = F.max_pool2d(x, 2, 2)\n",
        "\n",
        "\n",
        "  x, scale_next, zero_point_next = quantizeLayer(x, model.conv2_1, stats['conv2_2'], scale_next,zero_point_next,n_bits)\n",
        "  x =  F.relu(x)\n",
        "  x, scale_next, zero_point_next = quantizeLayer(x, model.conv2_2, stats['conv3_1'], scale_next,zero_point_next,n_bits)\n",
        "  x =  F.relu(x)\n",
        "  c2 = x.clone()\n",
        "  x = F.max_pool2d(x, 2, 2)\n",
        "\n",
        "  x, scale_next, zero_point_next = quantizeLayer(x, model.conv3_1, stats['conv3_2'], scale_next, zero_point_next,n_bits)\n",
        "  x =  F.relu(x)\n",
        "  x, scale_next, zero_point_next = quantizeLayer(x, model.conv3_2, stats['conv4_1'], scale_next, zero_point_next,n_bits)\n",
        "  x =  F.relu(x)\n",
        "  c3 = x.clone()\n",
        "  x = F.max_pool2d(x, 2, 2)\n",
        "\n",
        "  x, scale_next, zero_point_next = quantizeLayer(x, model.conv4_1, stats['conv4_2'], scale_next,zero_point_next,n_bits)\n",
        "  x =  F.relu(x)\n",
        "  x, scale_next, zero_point_next = quantizeLayer(x, model.conv4_2, stats['conv5_1'], scale_next, zero_point_next,n_bits)\n",
        "  x =  F.relu(x)\n",
        "  c4 = x.clone()\n",
        "  x = F.max_pool2d(x, 2, 2)\n",
        "    \n",
        "  x, scale_next, zero_point_next = quantizeLayer(x, model.conv5_1, stats['conv5_2'], scale_next,zero_point_next,n_bits)\n",
        "  x =  F.relu(x)\n",
        "  x, scale_next, zero_point_next = quantizeLayer(x, model.conv5_2, stats['up1'], scale_next,zero_point_next,n_bits)\n",
        "  x =  F.relu(x)\n",
        "  \n",
        "  x, scale_next, zero_point_next = quantizeLayer(x, model.up1, stats['conv6_1'], scale_next, zero_point_next,n_bits)\n",
        "  x = torch.cat((x,c4) , dim = 1)\n",
        "\n",
        "\n",
        "  x, scale_next, zero_point_next = quantizeLayer(x, model.conv6_1, stats['conv6_2'], scale_next, zero_point_next,n_bits)\n",
        "  x =  F.relu(x)\n",
        "  x, scale_next, zero_point_next = quantizeLayer(x, model.conv6_2, stats['up2'], scale_next,zero_point_next,n_bits)\n",
        "  x =  F.relu(x)\n",
        "\n",
        "  x, scale_next, zero_point_next = quantizeLayer(x, model.up2, stats['conv7_1'], scale_next, zero_point_next,n_bits)\n",
        "  x = torch.cat((x,c3) , dim = 1)\n",
        "  \n",
        "  x, scale_next, zero_point_next = quantizeLayer(x, model.conv7_1, stats['conv7_2'], scale_next, zero_point_next,n_bits)\n",
        "  x =  F.relu(x)\n",
        "  x, scale_next, zero_point_next = quantizeLayer(x, model.conv7_2, stats['up3'], scale_next,zero_point_next,n_bits)\n",
        "  x =  F.relu(x)\n",
        "\n",
        "  x, scale_next, zero_point_next = quantizeLayer(x, model.up3, stats['conv8_1'], scale_next,zero_point_next,n_bits)\n",
        "  x = torch.cat((x,c2) , dim = 1)\n",
        "\n",
        "  x, scale_next, zero_point_next = quantizeLayer(x, model.conv8_1, stats['conv8_2'], scale_next,zero_point_next,n_bits)\n",
        "  x =  F.relu(x)\n",
        "  x, scale_next, zero_point_next = quantizeLayer(x, model.conv8_2, stats['up4'], scale_next,zero_point_next,n_bits)\n",
        "  x =  F.relu(x)\n",
        "\n",
        "  x, scale_next, zero_point_next = quantizeLayer(x, model.up4, stats['conv9_1'], scale_next,zero_point_next,n_bits)\n",
        "  x = torch.cat((x,c1) , dim = 1)\n",
        "\n",
        "  x, scale_next, zero_point_next = quantizeLayer(x, model.conv9_1, stats['conv9_2'], scale_next, zero_point_next,n_bits)\n",
        "  x =  F.relu(x)\n",
        "  x, scale_next, zero_point_next = quantizeLayer(x, model.conv9_2, stats['conv_final'], scale_next,zero_point_next,n_bits)\n",
        "  x =  F.relu(x)\n",
        "\n",
        "  x = dequantize_tensor(QTensor(tensor=x, scale=scale_next, zero_point=zero_point_next))\n",
        "  x = model.conv_final(x)\n",
        "  x = torch.sigmoid(x)\n",
        "\n",
        "  return x\n",
        "\n"
      ],
      "execution_count": 0,
      "outputs": []
    },
    {
      "cell_type": "code",
      "metadata": {
        "id": "Qi6cjWWzcAqe",
        "colab_type": "code",
        "colab": {}
      },
      "source": [
        "test = get_batch(1, images , masks)"
      ],
      "execution_count": 0,
      "outputs": []
    },
    {
      "cell_type": "code",
      "metadata": {
        "id": "XQPTprO-cEF-",
        "colab_type": "code",
        "colab": {}
      },
      "source": [
        "ans = quantForward(Model,test[0] , dct , 8)"
      ],
      "execution_count": 0,
      "outputs": []
    },
    {
      "cell_type": "code",
      "metadata": {
        "id": "hrlRw984ClNv",
        "colab_type": "code",
        "outputId": "370ccf41-ca1a-4c8c-a478-b23d4ecb9844",
        "colab": {
          "base_uri": "https://localhost:8080/",
          "height": 368
        }
      },
      "source": [
        "plt.hist(Model.conv5_2.weight.clone().view([1,-1]).detach().cpu())\n"
      ],
      "execution_count": 0,
      "outputs": [
        {
          "output_type": "execute_result",
          "data": {
            "text/plain": [
              "(array([1.75000e+02, 8.12100e+03, 1.75499e+05, 3.38947e+05, 6.55820e+04,\n",
              "        1.43200e+03, 5.70000e+01, 7.00000e+00, 2.00000e+00, 2.00000e+00]),\n",
              " array([-0.09095169, -0.06369101, -0.03643034, -0.00916966,  0.01809101,\n",
              "         0.04535169,  0.07261236,  0.09987304,  0.12713371,  0.15439439,\n",
              "         0.18165506], dtype=float32),\n",
              " <a list of 10 Patch objects>)"
            ]
          },
          "metadata": {
            "tags": []
          },
          "execution_count": 30
        },
        {
          "output_type": "display_data",
          "data": {
            "image/png": "[encoded data removed]",
            "text/plain": [
              "<Figure size 432x288 with 1 Axes>"
            ]
          },
          "metadata": {
            "tags": []
          }
        }
      ]
    },
    {
      "cell_type": "code",
      "metadata": {
        "id": "kKYXeYPKiXKC",
        "colab_type": "code",
        "colab": {}
      },
      "source": [
        "q = quantize_tensor(Model.conv5_2.weight.clone().view([1,-1]).detach().cpu() , 8)"
      ],
      "execution_count": 0,
      "outputs": []
    },
    {
      "cell_type": "code",
      "metadata": {
        "id": "y2SXgKvBjFYk",
        "colab_type": "code",
        "outputId": "6545eb1d-aff6-4f90-ec8d-81295c58087f",
        "colab": {
          "base_uri": "https://localhost:8080/",
          "height": 354
        }
      },
      "source": [
        "plt.hist(q.tensor)"
      ],
      "execution_count": 0,
      "outputs": [
        {
          "output_type": "execute_result",
          "data": {
            "text/plain": [
              "(array([1.7600e+02, 7.6490e+03, 1.7706e+05, 3.3370e+05, 6.9758e+04,\n",
              "        1.4110e+03, 5.9000e+01, 7.0000e+00, 2.0000e+00, 2.0000e+00]),\n",
              " array([  0. ,  25.5,  51. ,  76.5, 102. , 127.5, 153. , 178.5, 204. ,\n",
              "        229.5, 255. ]),\n",
              " <a list of 10 Patch objects>)"
            ]
          },
          "metadata": {
            "tags": []
          },
          "execution_count": 37
        },
        {
          "output_type": "display_data",
          "data": {
            "image/png": "[encoded data removed]",
            "text/plain": [
              "<Figure size 432x288 with 1 Axes>"
            ]
          },
          "metadata": {
            "tags": []
          }
        }
      ]
    },
    {
      "cell_type": "code",
      "metadata": {
        "id": "WW8mIfLmjMPx",
        "colab_type": "code",
        "colab": {}
      },
      "source": [
        "test_item = get_batch(1 , images , masks)"
      ],
      "execution_count": 0,
      "outputs": []
    },
    {
      "cell_type": "code",
      "metadata": {
        "id": "o0L0823GncD6",
        "colab_type": "code",
        "colab": {}
      },
      "source": [
        "def tensor_hist(tensor):\n",
        "    ten = tensor.view([-1,1]).clone().detach().cpu()\n",
        "    plt.hist(ten)\n",
        "    plt.show()"
      ],
      "execution_count": 0,
      "outputs": []
    },
    {
      "cell_type": "code",
      "metadata": {
        "id": "_L3y1vASjYLY",
        "colab_type": "code",
        "colab": {}
      },
      "source": [
        "def Q_run(model , test_item):\n",
        "    with torch.no_grad():\n",
        "        x = quantize_tensor(test_item , 8)\n",
        "        W = quantize_tensor(model.conv1_1.weight , 8)\n",
        "        b = quantize_tensor(model.conv1_1.bias , 9)\n",
        "        W_orignal = model.conv1_1.weight\n",
        "        b_orignal = model.conv1_1.bias\n",
        "        model.conv1_1.weight = W\n",
        "\n",
        "    \n",
        "\n",
        "\n",
        "def run(model  , test_item):\n",
        "    with torch.no_grad():\n",
        "        out = model.conv1_1(test_item)\n",
        "    return out"
      ],
      "execution_count": 0,
      "outputs": []
    },
    {
      "cell_type": "code",
      "metadata": {
        "id": "TeUCEvkKkk7f",
        "colab_type": "code",
        "outputId": "a3fef4a8-26c9-4045-946c-384a9cf71cda",
        "colab": {
          "base_uri": "https://localhost:8080/",
          "height": 1000
        }
      },
      "source": [
        "Q_run(Model , test_item[0])"
      ],
      "execution_count": 0,
      "outputs": [
        {
          "output_type": "stream",
          "text": [
            "QTensor(tensor=tensor([[[[173,  71,  76],\n",
            "          [231, 250, 201],\n",
            "          [154, 146, 193]],\n",
            "\n",
            "         [[160,  78, 239],\n",
            "          [185, 174,  70],\n",
            "          [229, 180, 126]],\n",
            "\n",
            "         [[106, 163, 195],\n",
            "          [169,  85, 116],\n",
            "          [177,  69, 245]]],\n",
            "\n",
            "\n",
            "        [[[150, 144, 193],\n",
            "          [213, 146, 184],\n",
            "          [216,  69,  63]],\n",
            "\n",
            "         [[143, 138,  77],\n",
            "          [172, 131, 213],\n",
            "          [152,  53, 109]],\n",
            "\n",
            "         [[161,  61, 128],\n",
            "          [199, 222, 236],\n",
            "          [237, 167, 225]]],\n",
            "\n",
            "\n",
            "        [[[100, 188, 143],\n",
            "          [189,  51, 170],\n",
            "          [ 95, 146, 224]],\n",
            "\n",
            "         [[228, 119, 141],\n",
            "          [ 87, 247, 237],\n",
            "          [251,  86, 218]],\n",
            "\n",
            "         [[140, 230,  50],\n",
            "          [113, 131, 194],\n",
            "          [228, 206,  82]]],\n",
            "\n",
            "\n",
            "        [[[ 99, 148, 181],\n",
            "          [ 89, 254, 167],\n",
            "          [194, 240, 239]],\n",
            "\n",
            "         [[ 81,  62, 131],\n",
            "          [204, 142, 255],\n",
            "          [241, 183, 234]],\n",
            "\n",
            "         [[201, 236, 116],\n",
            "          [ 74, 141, 172],\n",
            "          [213,  77, 183]]],\n",
            "\n",
            "\n",
            "        [[[178, 124, 213],\n",
            "          [ 53,  60, 152],\n",
            "          [ 57,  58,  69]],\n",
            "\n",
            "         [[254, 126, 132],\n",
            "          [230, 207, 152],\n",
            "          [240,  52, 174]],\n",
            "\n",
            "         [[235, 110, 224],\n",
            "          [249, 211,  63],\n",
            "          [198, 187,  88]]],\n",
            "\n",
            "\n",
            "        [[[ 83, 100, 195],\n",
            "          [208, 243, 165],\n",
            "          [234, 152, 101]],\n",
            "\n",
            "         [[161,  81, 187],\n",
            "          [ 69, 149, 143],\n",
            "          [ 67,  87, 246]],\n",
            "\n",
            "         [[133, 108, 161],\n",
            "          [141,  94, 110],\n",
            "          [243,  99, 241]]],\n",
            "\n",
            "\n",
            "        [[[ 81, 252,  98],\n",
            "          [223, 237,  97],\n",
            "          [161,  77, 106]],\n",
            "\n",
            "         [[ 49, 190, 193],\n",
            "          [173, 243,  70],\n",
            "          [ 54, 254, 151]],\n",
            "\n",
            "         [[ 86,  63, 102],\n",
            "          [141, 165, 173],\n",
            "          [179, 254,  73]]],\n",
            "\n",
            "\n",
            "        [[[109, 103,  79],\n",
            "          [ 83, 110, 114],\n",
            "          [123, 162, 207]],\n",
            "\n",
            "         [[ 96, 106, 126],\n",
            "          [151, 239, 168],\n",
            "          [103, 200, 117]],\n",
            "\n",
            "         [[ 71, 209, 116],\n",
            "          [ 77, 223, 148],\n",
            "          [ 82, 220, 207]]],\n",
            "\n",
            "\n",
            "        [[[224, 200, 221],\n",
            "          [232, 136, 226],\n",
            "          [ 73, 144, 170]],\n",
            "\n",
            "         [[ 72, 113, 144],\n",
            "          [138, 207,  63],\n",
            "          [119, 168, 185]],\n",
            "\n",
            "         [[ 89, 165, 165],\n",
            "          [ 62, 155, 250],\n",
            "          [ 88, 226, 160]]],\n",
            "\n",
            "\n",
            "        [[[ 73, 132, 186],\n",
            "          [192, 109,  87],\n",
            "          [173,  48, 218]],\n",
            "\n",
            "         [[ 89, 104, 200],\n",
            "          [ 64, 163,  89],\n",
            "          [115, 204, 158]],\n",
            "\n",
            "         [[115, 239, 187],\n",
            "          [175, 237, 133],\n",
            "          [234, 210,  57]]],\n",
            "\n",
            "\n",
            "        [[[  0, 216,  94],\n",
            "          [ 23,  89,  69],\n",
            "          [ 69,  60,  74]],\n",
            "\n",
            "         [[189, 127, 153],\n",
            "          [ 27, 192, 116],\n",
            "          [ 36, 213, 176]],\n",
            "\n",
            "         [[  8, 148, 236],\n",
            "          [170,  48, 136],\n",
            "          [  5,  64, 159]]],\n",
            "\n",
            "\n",
            "        [[[169,  91, 151],\n",
            "          [186, 132, 237],\n",
            "          [114, 100,  43]],\n",
            "\n",
            "         [[136, 144, 238],\n",
            "          [113,  65, 215],\n",
            "          [151,  35, 188]],\n",
            "\n",
            "         [[126,  66, 186],\n",
            "          [ 68, 241, 114],\n",
            "          [ 95, 119,  63]]],\n",
            "\n",
            "\n",
            "        [[[164, 108, 116],\n",
            "          [ 69, 222, 201],\n",
            "          [238, 125,  80]],\n",
            "\n",
            "         [[184,  56, 231],\n",
            "          [ 63, 183,  84],\n",
            "          [ 53, 102,  67]],\n",
            "\n",
            "         [[192, 223, 102],\n",
            "          [251,  92, 178],\n",
            "          [234, 204, 252]]],\n",
            "\n",
            "\n",
            "        [[[215,  73, 214],\n",
            "          [177,  87, 119],\n",
            "          [212, 130,  90]],\n",
            "\n",
            "         [[ 96, 211, 156],\n",
            "          [231,  98, 134],\n",
            "          [102, 174, 236]],\n",
            "\n",
            "         [[ 65,  95,  88],\n",
            "          [124, 109,  61],\n",
            "          [200, 235, 137]]],\n",
            "\n",
            "\n",
            "        [[[118, 227,  65],\n",
            "          [218, 139, 213],\n",
            "          [ 86, 219, 186]],\n",
            "\n",
            "         [[138, 154, 235],\n",
            "          [211, 150,  77],\n",
            "          [121, 235, 197]],\n",
            "\n",
            "         [[140, 138, 118],\n",
            "          [ 50,  63,  94],\n",
            "          [179, 195, 151]]],\n",
            "\n",
            "\n",
            "        [[[187,  59, 104],\n",
            "          [198, 119, 212],\n",
            "          [199, 209, 130]],\n",
            "\n",
            "         [[ 69, 247, 104],\n",
            "          [202, 158,  84],\n",
            "          [223,  93, 131]],\n",
            "\n",
            "         [[113, 188, 151],\n",
            "          [229, 132, 165],\n",
            "          [ 87, 119,  59]]]], device='cuda:0', dtype=torch.int32), scale=tensor(0.0019, device='cuda:0'), zero_point=148)\n"
          ],
          "name": "stdout"
        }
      ]
    },
    {
      "cell_type": "code",
      "metadata": {
        "id": "jyKO0W1knNC-",
        "colab_type": "code",
        "colab": {}
      },
      "source": [
        ""
      ],
      "execution_count": 0,
      "outputs": []
    }
  ]
}